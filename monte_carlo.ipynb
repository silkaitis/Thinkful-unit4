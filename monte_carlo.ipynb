{
 "cells": [
  {
   "cell_type": "code",
   "execution_count": null,
   "metadata": {
    "collapsed": false
   },
   "outputs": [],
   "source": [
    "'''This script demonstrates simulations of coin flipping'''\n",
    "import random\n",
    "import matplotlib.pyplot as plt\n",
    "\n",
    "# let's create a fair coin object that can be flipped:\n",
    "\n",
    "class Coin(object):\n",
    "    '''this is a simple fair coin, can be pseudorandomly flipped'''\n",
    "    sides = ('heads', 'tails')\n",
    "    last_result = None\n",
    "\n",
    "    def flip(self):\n",
    "        '''call coin.flip() to flip the coin and record it as the last result'''\n",
    "        self.last_result = result = random.choice(self.sides)\n",
    "        return result\n",
    "\n",
    "# let's create some auxilliary functions to manipulate the coins:\n",
    "\n",
    "def create_coins(number):\n",
    "    '''create a list of a number of coin objects'''\n",
    "    return [Coin() for _ in xrange(number)]\n",
    "\n",
    "def flip_coins(coins):\n",
    "    '''side effect function, modifies object in place, returns None'''\n",
    "    for coin in coins:\n",
    "        coin.flip()\n",
    "\n",
    "def count_heads(flipped_coins):\n",
    "    return sum(coin.last_result == 'heads' for coin in flipped_coins)\n",
    "\n",
    "def count_tails(flipped_coins):\n",
    "    return sum(coin.last_result == 'tails' for coin in flipped_coins)\n",
    "\n",
    "def main():\n",
    "    coins = create_coins(1000)\n",
    "    head_count = []\n",
    "    max_count = []\n",
    "    min_count = []\n",
    "    for i in xrange(100):\n",
    "        flip_coins(coins)\n",
    "        head_count.append(count_heads(coins))\n",
    "        \n",
    "        if count_heads(coins) < count_tails(coins):\n",
    "            max_count.append(count_tails(coins))\n",
    "            min_count.append(count_heads(coins))\n",
    "        else:\n",
    "            max_count.append(count_heads(coins))\n",
    "            min_count.append(count_tails(coins))\n",
    "           \n",
    "    plt.figure()\n",
    "    plt.hist(head_count, 10)\n",
    "    plt.xlabel('Number of Heads')\n",
    "    plt.ylabel('Frequency')\n",
    "    plt.title('Number of Heads in 1000 Coins')\n",
    "    plt.show()\n",
    "    \n",
    "    plt.figure()\n",
    "    plt.hist(max_count, 10, facecolor = 'green', alpha = 0.50)\n",
    "    plt.hist(min_count, 10, facecolor = 'blue', alpha = 0.50)\n",
    "    plt.xlabel('Coin Count')\n",
    "    plt.ylabel('Frequency')\n",
    "    plt.title('Min and Max Counts')\n",
    "    plt.legend(['Max Count', 'Min Count'])\n",
    "    plt.show()\n",
    "\n",
    "if __name__ == '__main__':\n",
    "    main()"
   ]
  },
  {
   "cell_type": "code",
   "execution_count": 2,
   "metadata": {
    "collapsed": true
   },
   "outputs": [],
   "source": [
    "#The number of heads from flipping 1000 coins was tracked for 100 trails.\n",
    "#The distribution for the number of heads resembles a normal (Gaussian)\n",
    "#distribution which is expected.  The number of heads in a particular\n",
    "#trial is not binary although flipping a coin has a binary\n",
    "#outcome (heads or tails).  Some trials will have more heads and others\n",
    "#will have fewer heads which is caused by the randomness of flipping\n",
    "#a fair coin.  \n",
    "\n",
    "#The distribution for min and max follows a half-width normal (Gaussian)\n",
    "#distrubtion."
   ]
  }
 ],
 "metadata": {
  "kernelspec": {
   "display_name": "Python [Root]",
   "language": "python",
   "name": "Python [Root]"
  },
  "language_info": {
   "codemirror_mode": {
    "name": "ipython",
    "version": 2
   },
   "file_extension": ".py",
   "mimetype": "text/x-python",
   "name": "python",
   "nbconvert_exporter": "python",
   "pygments_lexer": "ipython2",
   "version": "2.7.12"
  }
 },
 "nbformat": 4,
 "nbformat_minor": 0
}
