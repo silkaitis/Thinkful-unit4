{
 "cells": [
  {
   "cell_type": "code",
   "execution_count": 18,
   "metadata": {
    "collapsed": true
   },
   "outputs": [],
   "source": [
    "import random\n",
    "\n",
    "import pandas as pd\n",
    "import matplotlib.pyplot as plt\n",
    "\n",
    "%matplotlib inline"
   ]
  },
  {
   "cell_type": "code",
   "execution_count": 25,
   "metadata": {
    "collapsed": false
   },
   "outputs": [
    {
     "data": {
      "text/html": [
       "<div>\n",
       "<table border=\"1\" class=\"dataframe\">\n",
       "  <thead>\n",
       "    <tr style=\"text-align: right;\">\n",
       "      <th></th>\n",
       "      <th>sepal_len</th>\n",
       "      <th>sepal_wid</th>\n",
       "      <th>petal_len</th>\n",
       "      <th>petal_wid</th>\n",
       "      <th>f_type</th>\n",
       "    </tr>\n",
       "  </thead>\n",
       "  <tbody>\n",
       "    <tr>\n",
       "      <th>0</th>\n",
       "      <td>5.1</td>\n",
       "      <td>3.5</td>\n",
       "      <td>1.4</td>\n",
       "      <td>0.2</td>\n",
       "      <td>Iris-setosa</td>\n",
       "    </tr>\n",
       "    <tr>\n",
       "      <th>1</th>\n",
       "      <td>4.9</td>\n",
       "      <td>3.0</td>\n",
       "      <td>1.4</td>\n",
       "      <td>0.2</td>\n",
       "      <td>Iris-setosa</td>\n",
       "    </tr>\n",
       "    <tr>\n",
       "      <th>2</th>\n",
       "      <td>4.7</td>\n",
       "      <td>3.2</td>\n",
       "      <td>1.3</td>\n",
       "      <td>0.2</td>\n",
       "      <td>Iris-setosa</td>\n",
       "    </tr>\n",
       "    <tr>\n",
       "      <th>3</th>\n",
       "      <td>4.6</td>\n",
       "      <td>3.1</td>\n",
       "      <td>1.5</td>\n",
       "      <td>0.2</td>\n",
       "      <td>Iris-setosa</td>\n",
       "    </tr>\n",
       "    <tr>\n",
       "      <th>4</th>\n",
       "      <td>5.0</td>\n",
       "      <td>3.6</td>\n",
       "      <td>1.4</td>\n",
       "      <td>0.2</td>\n",
       "      <td>Iris-setosa</td>\n",
       "    </tr>\n",
       "  </tbody>\n",
       "</table>\n",
       "</div>"
      ],
      "text/plain": [
       "   sepal_len  sepal_wid  petal_len  petal_wid       f_type\n",
       "0        5.1        3.5        1.4        0.2  Iris-setosa\n",
       "1        4.9        3.0        1.4        0.2  Iris-setosa\n",
       "2        4.7        3.2        1.3        0.2  Iris-setosa\n",
       "3        4.6        3.1        1.5        0.2  Iris-setosa\n",
       "4        5.0        3.6        1.4        0.2  Iris-setosa"
      ]
     },
     "execution_count": 25,
     "metadata": {},
     "output_type": "execute_result"
    }
   ],
   "source": [
    "#Load flower data\n",
    "data_url = 'https://raw.githubusercontent.com/Thinkful-Ed/'\\\n",
    "            'curric-data-001-data-sets/master/iris/iris.data.csv'\n",
    "\n",
    "petal_data = pd.read_csv(data_url, header = None, delimiter = ',')\n",
    "petal_data.columns = ['sepal_len', 'sepal_wid', 'petal_len', 'petal_wid', 'f_type']\n",
    "petal_data.head()"
   ]
  },
  {
   "cell_type": "code",
   "execution_count": 17,
   "metadata": {
    "collapsed": false
   },
   "outputs": [
    {
     "data": {
      "text/plain": [
       "<matplotlib.text.Text at 0xb2ebdd8>"
      ]
     },
     "execution_count": 17,
     "metadata": {},
     "output_type": "execute_result"
    },
    {
     "data": {
      "image/png": "[encoded data removed]",
      "text/plain": [
       "<matplotlib.figure.Figure at 0xb2f7320>"
      ]
     },
     "metadata": {},
     "output_type": "display_data"
    }
   ],
   "source": [
    "#Plot sepal length vs sepal width\n",
    "plt.figure()\n",
    "plt.scatter(petal_data['sepal_len'],petal_data['sepal_wid'])\n",
    "plt.xlabel('Sepal Length (cm)')\n",
    "plt.ylabel('Sepal Width (cm)')"
   ]
  },
  {
   "cell_type": "code",
   "execution_count": 82,
   "metadata": {
    "collapsed": false
   },
   "outputs": [],
   "source": [
    "def knn(data, len_label, wid_label, f_type):\n",
    "    #Function Input:\n",
    "    #data = DataFrame of length, width and categorical data\n",
    "    #len_label = String defining length data column\n",
    "    #wid_label = String defining width data column\n",
    "    #f_type = String defining categorical data column\n",
    "    \n",
    "    #Select random point and extract data\n",
    "    pt = random.choice(data.index)\n",
    "    len_point = data[len_label].loc[pt]\n",
    "    wid_point = data[wid_label].loc[pt]\n",
    "    \n",
    "    nearest = pd.DataFrame(columns = ['distance', 'f_type'])\n",
    "    nearest['distance'] = pow( \n",
    "                              pow(data[len_label] - len_point, 2) \n",
    "                            + pow(data[wid_label] - wid_point, 2)\n",
    "                            , 0.5)\n",
    "    nearest['f_type'] = data[f_type]\n",
    "    \n",
    "    nearest = nearest.sort_values(by = ['distance'])\n",
    "    nearest = nearest.reset_index(drop = True)\n",
    "    \n",
    "    max_counts = (nearest['f_type'][1:11]).value_counts().max()\n",
    "    counts = (nearest['f_type'][1:11]).value_counts()\n",
    "    count = counts[counts == max_counts].index\n",
    "    \n",
    "    return(nearest, pt, count[0])"
   ]
  },
  {
   "cell_type": "code",
   "execution_count": 86,
   "metadata": {
    "collapsed": false
   },
   "outputs": [
    {
     "name": "stdout",
     "output_type": "stream",
     "text": [
      "Iteration 0\n",
      "Majority class is Iris-virginica\n",
      "Data point 130 was selected\n",
      "Data point class is Iris-virginica\n",
      "\n",
      "Iteration 1\n",
      "Majority class is Iris-virginica\n",
      "Data point 118 was selected\n",
      "Data point class is Iris-virginica\n",
      "\n",
      "Iteration 2\n",
      "Majority class is Iris-setosa\n",
      "Data point 38 was selected\n",
      "Data point class is Iris-setosa\n",
      "\n",
      "Iteration 3\n",
      "Majority class is Iris-versicolor\n",
      "Data point 77 was selected\n",
      "Data point class is Iris-versicolor\n",
      "\n",
      "Iteration 4\n",
      "Majority class is Iris-virginica\n",
      "Data point 54 was selected\n",
      "Data point class is Iris-versicolor\n",
      "\n",
      "Iteration 5\n",
      "Majority class is Iris-setosa\n",
      "Data point 33 was selected\n",
      "Data point class is Iris-setosa\n",
      "\n",
      "Iteration 6\n",
      "Majority class is Iris-setosa\n",
      "Data point 106 was selected\n",
      "Data point class is Iris-virginica\n",
      "\n",
      "Iteration 7\n",
      "Majority class is Iris-setosa\n",
      "Data point 6 was selected\n",
      "Data point class is Iris-setosa\n",
      "\n",
      "Iteration 8\n",
      "Majority class is Iris-virginica\n",
      "Data point 105 was selected\n",
      "Data point class is Iris-virginica\n",
      "\n",
      "Iteration 9\n",
      "Majority class is Iris-setosa\n",
      "Data point 31 was selected\n",
      "Data point class is Iris-setosa\n",
      "\n"
     ]
    }
   ],
   "source": [
    "for i in range(10):\n",
    "    print('Iteration %d' % i)\n",
    "    near, pt, count = knn(petal_data, \n",
    "                          'sepal_len', \n",
    "                          'sepal_wid', \n",
    "                          'f_type')\n",
    "    print('Majority class is %s' % count)\n",
    "    print('Data point %d was selected' % pt)\n",
    "    print('Data point class is %s\\n' % petal_data['f_type'].loc[pt])"
   ]
  },
  {
   "cell_type": "code",
   "execution_count": null,
   "metadata": {
    "collapsed": true
   },
   "outputs": [],
   "source": [
    "#kNN is highly dependent on the arithmetic used to compare the\n",
    "#neighbors against the point under evaluation.  For example, if\n",
    "#all neighbors were used to judge the classification of a point.\n",
    "#All points would be classified as whichever type is most frequent\n",
    "#for the entire data set.  Therefore, kNN is sensitive to the\n",
    "#distance arithmetic used to include or exclude neighbors from a\n",
    "#classification.  To over simplify; too small of distance and \n",
    "#kNN doesn't help infer classification of point and too large of \n",
    "#distance and kNN over generalizes the data population."
   ]
  }
 ],
 "metadata": {
  "anaconda-cloud": {},
  "kernelspec": {
   "display_name": "Python [Root]",
   "language": "python",
   "name": "Python [Root]"
  },
  "language_info": {
   "codemirror_mode": {
    "name": "ipython",
    "version": 2
   },
   "file_extension": ".py",
   "mimetype": "text/x-python",
   "name": "python",
   "nbconvert_exporter": "python",
   "pygments_lexer": "ipython2",
   "version": "2.7.11"
  }
 },
 "nbformat": 4,
 "nbformat_minor": 0
}
