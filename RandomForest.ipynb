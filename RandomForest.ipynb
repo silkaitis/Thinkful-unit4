{
 "cells": [
  {
   "cell_type": "code",
   "execution_count": 1,
   "metadata": {
    "collapsed": false
   },
   "outputs": [],
   "source": [
    "#Import modules\n",
    "import sklearn.metrics\n",
    "\n",
    "import pandas as pd\n",
    "import matplotlib.pyplot as plt\n",
    "import seaborn as sns\n",
    "\n",
    "from sklearn.ensemble import RandomForestClassifier\n",
    "from IPython.core.display import clear_output\n",
    "\n",
    "%matplotlib inline"
   ]
  },
  {
   "cell_type": "code",
   "execution_count": 2,
   "metadata": {
    "collapsed": true
   },
   "outputs": [],
   "source": [
    "#Define function that calculates the magnitude of a 3D vector\n",
    "def magnitude(x,y,z):\n",
    "    \n",
    "    mag = pow(\n",
    "                pow(x, 2)\n",
    "              + pow(y, 2)\n",
    "              + pow(z, 2)\n",
    "                        , 0.5)\n",
    "    \n",
    "    return(mag)"
   ]
  },
  {
   "cell_type": "code",
   "execution_count": 3,
   "metadata": {
    "collapsed": false
   },
   "outputs": [],
   "source": [
    "#Open data label file\n",
    "label_file = open('features.txt','r')\n",
    "\n",
    "#Create lists for column position and name\n",
    "data_names = []\n",
    "\n",
    "for line in label_file.readlines():\n",
    "    #Split the line into the column number & label\n",
    "    line = line.split(' ')\n",
    "    \n",
    "    #Clean up all column names\n",
    "    line = line[1].rstrip()\n",
    "    line = line.replace('(','')\n",
    "    line = line.replace(')','')\n",
    "    line = line.replace('-','_')\n",
    "    line = line.replace('Body','')\n",
    "    line = line.replace('mean','Mean')\n",
    "    line = line.replace('std','STD')\n",
    "    line = line.replace(',','_')\n",
    "    line = line.replace('angle','angle_')\n",
    "    \n",
    "    data_names.append(line)\n",
    "\n",
    "label_file.close()"
   ]
  },
  {
   "cell_type": "code",
   "execution_count": 4,
   "metadata": {
    "collapsed": false
   },
   "outputs": [],
   "source": [
    "#Print column names for reference\n",
    "#print('\\n'.join(data_names))"
   ]
  },
  {
   "cell_type": "code",
   "execution_count": 5,
   "metadata": {
    "collapsed": false
   },
   "outputs": [],
   "source": [
    "#====\n",
    "#Load training data into kernel\n",
    "#====\n",
    "\n",
    "#Open x training data file\n",
    "data_file = open('X_train.txt','r')\n",
    "\n",
    "#Create blank data frame to receive data\n",
    "train_x = pd.DataFrame(columns=data_names)\n",
    "\n",
    "#Read each line from the text file while enumerating\n",
    "for idx,line in enumerate(data_file.readlines()):\n",
    "    print idx\n",
    "    #Split the line into each column and remove empty entries\n",
    "    line = line.split(' ')\n",
    "    line = [val for val in line if val != '']\n",
    "    train_x.loc[idx] = line\n",
    "    clear_output()\n",
    "    \n",
    "data_file.close()\n",
    "\n",
    "#Open activity label file\n",
    "data_file = open('activity_labels.txt','r')\n",
    "\n",
    "#Load activity label into dict\n",
    "act_lbl = {}\n",
    "for line in data_file.readlines():\n",
    "    line = line.split(' ')\n",
    "    act_lbl[int(line[0])] = line[1].rstrip()\n",
    "\n",
    "data_file.close()\n",
    "\n",
    "#Open y training data file\n",
    "data_file = open('y_train.txt','r')\n",
    "\n",
    "#Load y training data into array and convert to categorical\n",
    "train_y = [int(line) for line in data_file.readlines()]\n",
    "train_y = [act_lbl[item] for item in train_y]\n",
    "\n",
    "data_file.close()"
   ]
  },
  {
   "cell_type": "code",
   "execution_count": 6,
   "metadata": {
    "collapsed": true
   },
   "outputs": [],
   "source": [
    "train_x.to_pickle('train_x.pkl')"
   ]
  },
  {
   "cell_type": "code",
   "execution_count": 7,
   "metadata": {
    "collapsed": false
   },
   "outputs": [],
   "source": [
    "#====\n",
    "#Load test data into kernel\n",
    "#====\n",
    "\n",
    "#Open x training data file\n",
    "data_file = open('X_test.txt','r')\n",
    "\n",
    "#Create blank data frame to receive data\n",
    "test_x = pd.DataFrame(columns=data_names)\n",
    "\n",
    "#Read each line from the text file while enumerating\n",
    "for idx,line in enumerate(data_file.readlines()):\n",
    "    print idx\n",
    "    #Split the line into each column and remove empty entries\n",
    "    line = line.split(' ')\n",
    "    line = [val for val in line if val != '']\n",
    "    test_x.loc[idx] = line\n",
    "    clear_output()\n",
    "data_file.close()\n",
    "\n",
    "#Open y training data file\n",
    "data_file = open('y_test.txt','r')\n",
    "\n",
    "#Load y training data into array and convert to categorical\n",
    "test_y = [int(line) for line in data_file.readlines()]\n",
    "test_y = [act_lbl[item] for item in test_y]\n",
    "\n",
    "data_file.close()"
   ]
  },
  {
   "cell_type": "code",
   "execution_count": 8,
   "metadata": {
    "collapsed": true
   },
   "outputs": [],
   "source": [
    "test_x.to_pickle('test_x.pkl')"
   ]
  },
  {
   "cell_type": "code",
   "execution_count": 10,
   "metadata": {
    "collapsed": false
   },
   "outputs": [],
   "source": [
    "#Plant the seeds\n",
    "forest = RandomForestClassifier(n_estimators=500, n_jobs = -1)\n",
    "\n",
    "#Grow the forest\n",
    "forest = forest.fit(train_x,train_y)\n",
    "\n",
    "#Test the forest\n",
    "output = forest.predict(test_x)"
   ]
  },
  {
   "cell_type": "code",
   "execution_count": 11,
   "metadata": {
    "collapsed": false
   },
   "outputs": [
    {
     "name": "stdout",
     "output_type": "stream",
     "text": [
      "The Random Forest Classifier model accuracy score is 0.925 using 561 features\n",
      "The Random Forest Classifier model precision score is 0.926 using 561 features\n",
      "The Random Forest Classifier model recall score is 0.925 using 561 features\n",
      "\n",
      "Top Ten Features in the Model\n",
      "\n",
      "1. tGravityAcc_energy_X (0.031)\n",
      "2. tGravityAcc_min_X (0.030)\n",
      "3. tGravityAcc_Mean_X (0.030)\n",
      "4. angle_X_gravityMean (0.029)\n",
      "5. tGravityAcc_min_Y (0.026)\n",
      "6. angle_Y_gravityMean (0.025)\n",
      "7. tGravityAcc_Mean_Y (0.024)\n",
      "8. tGravityAcc_max_Y (0.024)\n",
      "9. tGravityAcc_max_X (0.022)\n",
      "10. tGravityAcc_energy_Y (0.017)\n"
     ]
    }
   ],
   "source": [
    "#Model accuracy score\n",
    "print('The Random Forest Classifier model accuracy score is '\\\n",
    "      '%0.3f using %d features' % (forest.score(test_x,test_y),len(data_names)))\n",
    "\n",
    "#Model precision score\n",
    "print('The Random Forest Classifier model precision score is '\\\n",
    "      '%0.3f using %d features' % (sklearn.metrics.precision_score(test_y,output,average='weighted'),len(data_names)))\n",
    "\n",
    "#Model precision score\n",
    "print('The Random Forest Classifier model recall score is '\\\n",
    "      '%0.3f using %d features' % (sklearn.metrics.recall_score(test_y,output,average='weighted'),len(data_names)))\n",
    "\n",
    "\n",
    "#Feature rank\n",
    "#Create rank data frame\n",
    "rank = pd.DataFrame(columns=['Score','FeatureName'])\n",
    "\n",
    "#Pull feature imporance from forest\n",
    "rank['Score'] = forest.feature_importances_\n",
    "\n",
    "#Add feature names to dataframe\n",
    "rank['FeatureName'] = data_names\n",
    "\n",
    "#Sort data frames on importance and reindex data frame\n",
    "rank = rank.sort_values(by=['Score'],ascending=False)\n",
    "rank = rank.reset_index(drop=True)\n",
    "\n",
    "print('\\nTop Ten Features in the Model\\n')\n",
    "\n",
    "for i in range(10):\n",
    "    print('%d. %s (%0.3f)' % \n",
    "          (i+1, rank['FeatureName'][i], rank['Score'][i]))"
   ]
  },
  {
   "cell_type": "code",
   "execution_count": 12,
   "metadata": {
    "collapsed": false
   },
   "outputs": [
    {
     "data": {
      "image/png": "[encoded data removed]",
      "text/plain": [
       "<matplotlib.figure.Figure at 0x1424adf90>"
      ]
     },
     "metadata": {},
     "output_type": "display_data"
    }
   ],
   "source": [
    "# plt.figure(figsize=(16,4))\n",
    "plt.bar(range(0, 10), rank.Score[:10], tick_label = rank.FeatureName[:10]);\n",
    "plt.xticks(rotation = 45);\n",
    "plt.title('Feature Importance');\n",
    "plt.xlabel('Feature')\n",
    "plt.ylabel('')\n",
    "plt.tight_layout()\n",
    "plt.savefig('Feature_Importance_Full', dpi = 100)"
   ]
  },
  {
   "cell_type": "code",
   "execution_count": null,
   "metadata": {
    "collapsed": true
   },
   "outputs": [],
   "source": []
  }
 ],
 "metadata": {
  "anaconda-cloud": {},
  "kernelspec": {
   "display_name": "Python 2",
   "language": "python",
   "name": "python2"
  },
  "language_info": {
   "codemirror_mode": {
    "name": "ipython",
    "version": 2
   },
   "file_extension": ".py",
   "mimetype": "text/x-python",
   "name": "python",
   "nbconvert_exporter": "python",
   "pygments_lexer": "ipython2",
   "version": "2.7.12"
  }
 },
 "nbformat": 4,
 "nbformat_minor": 0
}
