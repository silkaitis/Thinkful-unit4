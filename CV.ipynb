{
 "cells": [
  {
   "cell_type": "code",
   "execution_count": 55,
   "metadata": {
    "collapsed": false
   },
   "outputs": [],
   "source": [
    "import matplotlib.pyplot as plt\n",
    "import numpy as np\n",
    "\n",
    "from matplotlib.colors import ListedColormap\n",
    "\n",
    "from sklearn import datasets, svm\n",
    "from sklearn.cross_validation import train_test_split\n",
    "from sklearn.cross_validation import KFold\n",
    "from sklearn.metrics import precision_recall_fscore_support\n",
    "\n",
    "%matplotlib inline"
   ]
  },
  {
   "cell_type": "code",
   "execution_count": 3,
   "metadata": {
    "collapsed": true
   },
   "outputs": [],
   "source": [
    "#Define color map\n",
    "cmap_light = ListedColormap(['#FFAAAA', '#AAFFAA', '#AAAAFF'])\n",
    "cmap_bold = ListedColormap(['#FF0000', '#00FF00', '#0000FF'])\n",
    "\n",
    "#Define function to plot iris data\n",
    "def plot_estimator(estimator, X, y):\n",
    "    estimator.fit(X, y)\n",
    "    x_min, x_max = X[:, 0].min() - 0.1, X[:, 0].max() + 0.1\n",
    "    y_min, y_max = X[:, 1].min() - 0.1, X[:, 1].max() + 0.1\n",
    "    \n",
    "    xx, yy = np.meshgrid(np.linspace(x_min, x_max, 100), \n",
    "                         np.linspace(y_min, y_max, 100))\n",
    "    \n",
    "    Z = estimator.predict(np.c_[xx.ravel(), yy.ravel()])\n",
    "    \n",
    "    Z = Z.reshape(xx.shape)\n",
    "    plt.figure()\n",
    "    plt.pcolormesh(xx, yy, Z, cmap = cmap_light)\n",
    "    \n",
    "    plt.scatter(X[:, 0], X[:, 1], c = y, cmap = cmap_bold)\n",
    "    plt.axis('tight')\n",
    "    plt.tight_layout()"
   ]
  },
  {
   "cell_type": "code",
   "execution_count": 6,
   "metadata": {
    "collapsed": false
   },
   "outputs": [
    {
     "name": "stdout",
     "output_type": "stream",
     "text": [
      "Training set has 90 points\n",
      "Test set has 60 points\n"
     ]
    }
   ],
   "source": [
    "#Load data\n",
    "iris = datasets.load_iris()\n",
    "\n",
    "X = iris.data\n",
    "y = iris.target\n",
    "\n",
    "#Split data into training and test sets\n",
    "X_train, X_test, y_train, y_test = train_test_split(X, y, test_size = 0.40)\n",
    "\n",
    "print('Training set has %d points' % len(X_train))\n",
    "print('Test set has %d points' % len(X_test))"
   ]
  },
  {
   "cell_type": "code",
   "execution_count": 8,
   "metadata": {
    "collapsed": false
   },
   "outputs": [
    {
     "data": {
      "text/plain": [
       "SVC(C=1, cache_size=200, class_weight=None, coef0=0.0,\n",
       "  decision_function_shape=None, degree=3, gamma='auto', kernel='linear',\n",
       "  max_iter=-1, probability=False, random_state=None, shrinking=True,\n",
       "  tol=0.001, verbose=False)"
      ]
     },
     "execution_count": 8,
     "metadata": {},
     "output_type": "execute_result"
    }
   ],
   "source": [
    "svc = svm.SVC(kernel = 'linear', C = 1)\n",
    "svc.fit(X_train, y_train)"
   ]
  },
  {
   "cell_type": "code",
   "execution_count": 19,
   "metadata": {
    "collapsed": false
   },
   "outputs": [
    {
     "name": "stdout",
     "output_type": "stream",
     "text": [
      "SVC score for the test dataset is 0.983\n"
     ]
    }
   ],
   "source": [
    "print('SVC score for the test dataset is %0.3f' % svc.score(X_test, y_test))"
   ]
  },
  {
   "cell_type": "code",
   "execution_count": 74,
   "metadata": {
    "collapsed": false
   },
   "outputs": [],
   "source": [
    "#The score is higher using the split dataset to train and test sets than \n",
    "#the un-split dataset."
   ]
  },
  {
   "cell_type": "code",
   "execution_count": 73,
   "metadata": {
    "collapsed": false
   },
   "outputs": [
    {
     "name": "stdout",
     "output_type": "stream",
     "text": [
      "Mean score for 5-fold cross validation: 0.613\n",
      "Score standard deviation for 5-fold cross validation: 0.309\n",
      "\n",
      "Mean F1 score for 5-fold cross validation: 0.412\n"
     ]
    },
    {
     "name": "stderr",
     "output_type": "stream",
     "text": [
      "C:\\Users\\danius.silkaitis\\AppData\\Local\\Continuum\\Anaconda2\\lib\\site-packages\\sklearn\\metrics\\classification.py:976: DeprecationWarning: From version 0.18, binary input will not be handled specially when using averaged precision/recall/F-score. Please use average='binary' to report only the positive class performance.\n",
      "  'positive class performance.', DeprecationWarning)\n",
      "C:\\Users\\danius.silkaitis\\AppData\\Local\\Continuum\\Anaconda2\\lib\\site-packages\\sklearn\\metrics\\classification.py:976: DeprecationWarning: From version 0.18, binary input will not be handled specially when using averaged precision/recall/F-score. Please use average='binary' to report only the positive class performance.\n",
      "  'positive class performance.', DeprecationWarning)\n",
      "C:\\Users\\danius.silkaitis\\AppData\\Local\\Continuum\\Anaconda2\\lib\\site-packages\\sklearn\\metrics\\classification.py:976: DeprecationWarning: From version 0.18, binary input will not be handled specially when using averaged precision/recall/F-score. Please use average='binary' to report only the positive class performance.\n",
      "  'positive class performance.', DeprecationWarning)\n",
      "C:\\Users\\danius.silkaitis\\AppData\\Local\\Continuum\\Anaconda2\\lib\\site-packages\\sklearn\\metrics\\classification.py:976: DeprecationWarning: From version 0.18, binary input will not be handled specially when using averaged precision/recall/F-score. Please use average='binary' to report only the positive class performance.\n",
      "  'positive class performance.', DeprecationWarning)\n"
     ]
    }
   ],
   "source": [
    "#Build cross validation iterator\n",
    "cval_itr = KFold(len(iris.data), n_folds = 5)\n",
    "\n",
    "svc_score = np.array([])\n",
    "precision = np.array([])\n",
    "recall = np.array([])\n",
    "f_score = np.array([])\n",
    "\n",
    "\n",
    "for train, test in cval_itr:\n",
    "    #Load training data into a data frame\n",
    "    X_train = iris.data[train][:, [0,1]]\n",
    "    y_train = iris.target[train]\n",
    "    \n",
    "    #Load test data into a data frame\n",
    "    X_test = iris.data[test][:, [0,1]]\n",
    "    y_test = iris.target[test]\n",
    "    \n",
    "    #Fit to training data\n",
    "    svc = svm.SVC(kernel = 'linear', C = 1)\n",
    "    svc.fit(X_train, y_train)\n",
    "    \n",
    "    #Predict categories\n",
    "    y_predict = svc.predict(X_test)\n",
    "    \n",
    "    #Calculate precision, recall and f1 score\n",
    "    results = precision_recall_fscore_support(y_test, y_predict, average = 'weighted')\n",
    "    precision = np.append(precision, results[0])\n",
    "    recall = np.append(recall, results[1])\n",
    "    f_score = np.append(f_score, results[2])\n",
    "    \n",
    "    #Store score for test data\n",
    "    svc_score = np.append(svc_score, [float(svc.score(X_test, y_test))])\n",
    "\n",
    "print('Mean score for 5-fold cross validation: %0.3f' % svc_score.mean())\n",
    "print('Score standard deviation for 5-fold cross validation: %0.3f\\n' % svc_score.std())\n",
    "\n",
    "print('Mean F1 score for 5-fold cross validation: %0.3f' % f_score.mean())"
   ]
  }
 ],
 "metadata": {
  "anaconda-cloud": {},
  "kernelspec": {
   "display_name": "Python [Root]",
   "language": "python",
   "name": "Python [Root]"
  },
  "language_info": {
   "codemirror_mode": {
    "name": "ipython",
    "version": 2
   },
   "file_extension": ".py",
   "mimetype": "text/x-python",
   "name": "python",
   "nbconvert_exporter": "python",
   "pygments_lexer": "ipython2",
   "version": "2.7.12"
  }
 },
 "nbformat": 4,
 "nbformat_minor": 0
}
