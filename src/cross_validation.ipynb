{
 "cells": [
  {
   "cell_type": "code",
   "execution_count": 1,
   "metadata": {
    "collapsed": true
   },
   "outputs": [],
   "source": [
    "#Import modules\n",
    "import pandas as pd\n",
    "import statsmodels.formula.api as smf\n",
    "\n",
    "from sklearn.cross_validation import KFold"
   ]
  },
  {
   "cell_type": "code",
   "execution_count": 2,
   "metadata": {
    "collapsed": false
   },
   "outputs": [],
   "source": [
    "#Load raw data into data frame\n",
    "raw_data = pd.read_csv('loansData.csv')"
   ]
  },
  {
   "cell_type": "code",
   "execution_count": 3,
   "metadata": {
    "collapsed": false
   },
   "outputs": [],
   "source": [
    "#Convert interest rate from string to float\n",
    "raw_data['IntRate'] = [float(val.strip('%')) \n",
    "                       for val in raw_data['Interest.Rate'].values]"
   ]
  },
  {
   "cell_type": "code",
   "execution_count": 4,
   "metadata": {
    "collapsed": false
   },
   "outputs": [],
   "source": [
    "#Code home ownership status\n",
    "raw_data['Ownership'] = raw_data['Home.Ownership'].astype('category')\n",
    "raw_data['Ownership'] = raw_data['Ownership'].cat.codes"
   ]
  },
  {
   "cell_type": "code",
   "execution_count": 5,
   "metadata": {
    "collapsed": false
   },
   "outputs": [],
   "source": [
    "#Calculate yearly income from monthly income\n",
    "raw_data['YearlyIncome'] = raw_data['Monthly.Income'] * 12"
   ]
  },
  {
   "cell_type": "code",
   "execution_count": 6,
   "metadata": {
    "collapsed": false
   },
   "outputs": [
    {
     "data": {
      "text/html": [
       "<table class=\"simpletable\">\n",
       "<caption>OLS Regression Results</caption>\n",
       "<tr>\n",
       "  <th>Dep. Variable:</th>    <td>raw_data[\"IntRate\"]</td> <th>  R-squared:         </th> <td>   0.008</td> \n",
       "</tr>\n",
       "<tr>\n",
       "  <th>Model:</th>                    <td>OLS</td>         <th>  Adj. R-squared:    </th> <td>   0.006</td> \n",
       "</tr>\n",
       "<tr>\n",
       "  <th>Method:</th>              <td>Least Squares</td>    <th>  F-statistic:       </th> <td>   6.327</td> \n",
       "</tr>\n",
       "<tr>\n",
       "  <th>Date:</th>              <td>Sat, 08 Oct 2016</td>   <th>  Prob (F-statistic):</th> <td>0.000285</td> \n",
       "</tr>\n",
       "<tr>\n",
       "  <th>Time:</th>                  <td>09:00:30</td>       <th>  Log-Likelihood:    </th> <td> -7108.8</td> \n",
       "</tr>\n",
       "<tr>\n",
       "  <th>No. Observations:</th>       <td>  2499</td>        <th>  AIC:               </th> <td>1.423e+04</td>\n",
       "</tr>\n",
       "<tr>\n",
       "  <th>Df Residuals:</th>           <td>  2495</td>        <th>  BIC:               </th> <td>1.425e+04</td>\n",
       "</tr>\n",
       "<tr>\n",
       "  <th>Df Model:</th>               <td>     3</td>        <th>                     </th>     <td> </td>    \n",
       "</tr>\n",
       "<tr>\n",
       "  <th>Covariance Type:</th>       <td>nonrobust</td>      <th>                     </th>     <td> </td>    \n",
       "</tr>\n",
       "</table>\n",
       "<table class=\"simpletable\">\n",
       "<tr>\n",
       "                         <td></td>                           <th>coef</th>     <th>std err</th>      <th>t</th>      <th>P>|t|</th>  <th>[0.025</th>    <th>0.975]</th>  \n",
       "</tr>\n",
       "<tr>\n",
       "  <th>Intercept</th>                                      <td>   12.6691</td> <td>    0.206</td> <td>   61.512</td> <td> 0.000</td> <td>   12.265</td> <td>   13.073</td>\n",
       "</tr>\n",
       "<tr>\n",
       "  <th>raw_data[\"Ownership\"]</th>                          <td>    0.0614</td> <td>    0.081</td> <td>    0.759</td> <td> 0.448</td> <td>   -0.097</td> <td>    0.220</td>\n",
       "</tr>\n",
       "<tr>\n",
       "  <th>raw_data[\"YearlyIncome\"]</th>                       <td> 8.219e-07</td> <td> 2.09e-06</td> <td>    0.393</td> <td> 0.694</td> <td>-3.28e-06</td> <td> 4.92e-06</td>\n",
       "</tr>\n",
       "<tr>\n",
       "  <th>raw_data[\"Ownership\"]:raw_data[\"YearlyIncome\"]</th> <td> 1.773e-06</td> <td> 1.06e-06</td> <td>    1.676</td> <td> 0.094</td> <td>-3.02e-07</td> <td> 3.85e-06</td>\n",
       "</tr>\n",
       "</table>\n",
       "<table class=\"simpletable\">\n",
       "<tr>\n",
       "  <th>Omnibus:</th>       <td>66.890</td> <th>  Durbin-Watson:     </th> <td>   1.996</td>\n",
       "</tr>\n",
       "<tr>\n",
       "  <th>Prob(Omnibus):</th> <td> 0.000</td> <th>  Jarque-Bera (JB):  </th> <td>  53.547</td>\n",
       "</tr>\n",
       "<tr>\n",
       "  <th>Skew:</th>          <td> 0.279</td> <th>  Prob(JB):          </th> <td>2.36e-12</td>\n",
       "</tr>\n",
       "<tr>\n",
       "  <th>Kurtosis:</th>      <td> 2.549</td> <th>  Cond. No.          </th> <td>5.06e+05</td>\n",
       "</tr>\n",
       "</table>"
      ],
      "text/plain": [
       "<class 'statsmodels.iolib.summary.Summary'>\n",
       "\"\"\"\n",
       "                             OLS Regression Results                            \n",
       "===============================================================================\n",
       "Dep. Variable:     raw_data[\"IntRate\"]   R-squared:                       0.008\n",
       "Model:                             OLS   Adj. R-squared:                  0.006\n",
       "Method:                  Least Squares   F-statistic:                     6.327\n",
       "Date:                 Sat, 08 Oct 2016   Prob (F-statistic):           0.000285\n",
       "Time:                         09:00:30   Log-Likelihood:                -7108.8\n",
       "No. Observations:                 2499   AIC:                         1.423e+04\n",
       "Df Residuals:                     2495   BIC:                         1.425e+04\n",
       "Df Model:                            3                                         \n",
       "Covariance Type:             nonrobust                                         \n",
       "==================================================================================================================\n",
       "                                                     coef    std err          t      P>|t|      [0.025      0.975]\n",
       "------------------------------------------------------------------------------------------------------------------\n",
       "Intercept                                         12.6691      0.206     61.512      0.000      12.265      13.073\n",
       "raw_data[\"Ownership\"]                              0.0614      0.081      0.759      0.448      -0.097       0.220\n",
       "raw_data[\"YearlyIncome\"]                        8.219e-07   2.09e-06      0.393      0.694   -3.28e-06    4.92e-06\n",
       "raw_data[\"Ownership\"]:raw_data[\"YearlyIncome\"]  1.773e-06   1.06e-06      1.676      0.094   -3.02e-07    3.85e-06\n",
       "==============================================================================\n",
       "Omnibus:                       66.890   Durbin-Watson:                   1.996\n",
       "Prob(Omnibus):                  0.000   Jarque-Bera (JB):               53.547\n",
       "Skew:                           0.279   Prob(JB):                     2.36e-12\n",
       "Kurtosis:                       2.549   Cond. No.                     5.06e+05\n",
       "==============================================================================\n",
       "\n",
       "Warnings:\n",
       "[1] Standard Errors assume that the covariance matrix of the errors is correctly specified.\n",
       "[2] The condition number is large, 5.06e+05. This might indicate that there are\n",
       "strong multicollinearity or other numerical problems.\n",
       "\"\"\""
      ]
     },
     "execution_count": 6,
     "metadata": {},
     "output_type": "execute_result"
    }
   ],
   "source": [
    "#Build regression model\n",
    "model = smf.ols(formula = 'raw_data[\"IntRate\"] \\\n",
    "                            ~ raw_data[\"Ownership\"] \\\n",
    "                            + raw_data[\"YearlyIncome\"] \\\n",
    "                            + raw_data[\"Ownership\"] * raw_data[\"YearlyIncome\"]', \n",
    "                            data = raw_data).fit()\n",
    "\n",
    "model.summary()"
   ]
  },
  {
   "cell_type": "code",
   "execution_count": 7,
   "metadata": {
    "collapsed": false
   },
   "outputs": [],
   "source": [
    "#Build cross validation iterator\n",
    "cval_itr = KFold(len(raw_data), n_folds = 10)\n",
    "\n",
    "perf_metrics = pd.DataFrame(index = range(10), columns = ['MSE', 'MAE', 'R2'])\n",
    "i = 0\n",
    "\n",
    "for train, test in cval_itr:\n",
    "    #Load training data into a data frame\n",
    "    train_data = pd.DataFrame()\n",
    "    train_data['IntRate'] = raw_data['IntRate'].values[train]\n",
    "    train_data['Ownership'] = raw_data['Ownership'].values[train]\n",
    "    train_data['YearlyIncome'] = raw_data['YearlyIncome'].values[train]\n",
    "    \n",
    "    #Load test data into a data frame\n",
    "    test_data = pd.DataFrame()\n",
    "    test_data['IntRate'] = raw_data['IntRate'].values[test]\n",
    "    test_data['Ownership'] = raw_data['Ownership'].values[test]\n",
    "    test_data['YearlyIncome'] = raw_data['YearlyIncome'].values[test]\n",
    "    \n",
    "    #Model training data\n",
    "    model = smf.ols(formula = 'train_data[\"IntRate\"] \\\n",
    "                                ~ train_data[\"Ownership\"] \\\n",
    "                                + train_data[\"YearlyIncome\"] \\\n",
    "                                + train_data[\"Ownership\"] * train_data[\"YearlyIncome\"]', \n",
    "                                    data = train_data).fit()\n",
    "    \n",
    "    #Evaluate model against test data\n",
    "    test_data['Pred_IntRate'] = (model.params[0] \n",
    "                                 + model.params[1] * test_data['Ownership']\n",
    "                                 + model.params[2] * test_data['YearlyIncome']\n",
    "                                 + model.params[3] * test_data['Ownership'] * test_data['Ownership'])\n",
    "    \n",
    "    #Calculate performance metrics\n",
    "    SSres = sum( (test_data['Pred_IntRate'] - test_data['IntRate'])**2)\n",
    "    \n",
    "    SStot = sum( (test_data['IntRate'] - test_data['IntRate'].mean())**2)\n",
    "    \n",
    "    MSE = SSres / len(test_data)\n",
    "    \n",
    "    MAE = sum( abs(test_data['Pred_IntRate'] - test_data['IntRate'])) / len(test_data)\n",
    "    \n",
    "    R2 = 1 - (SSres / SStot)\n",
    "    \n",
    "    perf_metrics.loc[i] = [MSE, MAE, R2]\n",
    "    \n",
    "    i += 1"
   ]
  },
  {
   "cell_type": "code",
   "execution_count": null,
   "metadata": {
    "collapsed": false
   },
   "outputs": [],
   "source": [
    "perf_metrics"
   ]
  },
  {
   "cell_type": "code",
   "execution_count": 8,
   "metadata": {
    "collapsed": false
   },
   "outputs": [
    {
     "name": "stdout",
     "output_type": "stream",
     "text": [
      "Average mean squared error for entire cross validation : 17.51\n",
      "\n",
      "Average mean absolute error for entire cross validation : 3.38\n",
      "\n",
      "Average R squared for entire cross validation : -0.00\n",
      "\n"
     ]
    }
   ],
   "source": [
    "print('Average mean squared error for entire cross validation : %0.2f\\n' % perf_metrics['MSE'].mean())\n",
    "print('Average mean absolute error for entire cross validation : %0.2f\\n' % perf_metrics['MAE'].mean())\n",
    "print('Average R squared for entire cross validation : %0.2f\\n' % perf_metrics['R2'].mean())"
   ]
  },
  {
   "cell_type": "code",
   "execution_count": null,
   "metadata": {
    "collapsed": true
   },
   "outputs": [],
   "source": [
    "#The performance metrics indicate similar conclusion to the previous analysis\n",
    "#on the loan data.  The model does not predict the variation in the data\n",
    "#very well (R2 = 0.0).  MSE and MAE support the conclusion drawn from\n",
    "#R2.  MAE states that the model either predicts the interest rate to be \n",
    "#on average +/- 3.38 % of the true interest rate.  MSE indicated how closely\n",
    "#the model matches the available data, therefore a small MSE is better.\n",
    "#The large MSE shown above suggests the model does not match the data\n",
    "#very well."
   ]
  }
 ],
 "metadata": {
  "kernelspec": {
   "display_name": "Python 2",
   "language": "python",
   "name": "python2"
  },
  "language_info": {
   "codemirror_mode": {
    "name": "ipython",
    "version": 2
   },
   "file_extension": ".py",
   "mimetype": "text/x-python",
   "name": "python",
   "nbconvert_exporter": "python",
   "pygments_lexer": "ipython2",
   "version": "2.7.12"
  }
 },
 "nbformat": 4,
 "nbformat_minor": 0
}
