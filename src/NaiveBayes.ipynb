{
 "cells": [
  {
   "cell_type": "code",
   "execution_count": 1,
   "metadata": {
    "collapsed": true
   },
   "outputs": [],
   "source": [
    "#Import modules\n",
    "import pandas as pd\n",
    "import matplotlib.pyplot as plt\n",
    "import seaborn as sns\n",
    "\n",
    "from sklearn.naive_bayes import GaussianNB\n",
    "\n",
    "%matplotlib inline"
   ]
  },
  {
   "cell_type": "code",
   "execution_count": 4,
   "metadata": {
    "collapsed": false
   },
   "outputs": [
    {
     "data": {
      "text/html": [
       "<div>\n",
       "<table border=\"1\" class=\"dataframe\">\n",
       "  <thead>\n",
       "    <tr style=\"text-align: right;\">\n",
       "      <th></th>\n",
       "      <th>sex</th>\n",
       "      <th>actual</th>\n",
       "      <th>ideal</th>\n",
       "      <th>diff</th>\n",
       "    </tr>\n",
       "    <tr>\n",
       "      <th>id</th>\n",
       "      <th></th>\n",
       "      <th></th>\n",
       "      <th></th>\n",
       "      <th></th>\n",
       "    </tr>\n",
       "  </thead>\n",
       "  <tbody>\n",
       "    <tr>\n",
       "      <th>177</th>\n",
       "      <td>Male</td>\n",
       "      <td>180</td>\n",
       "      <td>180</td>\n",
       "      <td>0</td>\n",
       "    </tr>\n",
       "    <tr>\n",
       "      <th>178</th>\n",
       "      <td>Female</td>\n",
       "      <td>125</td>\n",
       "      <td>120</td>\n",
       "      <td>5</td>\n",
       "    </tr>\n",
       "    <tr>\n",
       "      <th>179</th>\n",
       "      <td>Male</td>\n",
       "      <td>158</td>\n",
       "      <td>150</td>\n",
       "      <td>8</td>\n",
       "    </tr>\n",
       "    <tr>\n",
       "      <th>180</th>\n",
       "      <td>Female</td>\n",
       "      <td>130</td>\n",
       "      <td>130</td>\n",
       "      <td>0</td>\n",
       "    </tr>\n",
       "    <tr>\n",
       "      <th>181</th>\n",
       "      <td>Female</td>\n",
       "      <td>118</td>\n",
       "      <td>118</td>\n",
       "      <td>0</td>\n",
       "    </tr>\n",
       "  </tbody>\n",
       "</table>\n",
       "</div>"
      ],
      "text/plain": [
       "        sex  actual  ideal  diff\n",
       "id                              \n",
       "177    Male     180    180     0\n",
       "178  Female     125    120     5\n",
       "179    Male     158    150     8\n",
       "180  Female     130    130     0\n",
       "181  Female     118    118     0"
      ]
     },
     "execution_count": 4,
     "metadata": {},
     "output_type": "execute_result"
    }
   ],
   "source": [
    "#Load weight data into data frame\n",
    "url_data = 'https://raw.githubusercontent.com/Thinkful-Ed/'\\\n",
    "            'curric-data-001-data-sets/master/ideal-weight/ideal_weight.csv'\n",
    "weight_data = pd.read_csv(url_data, header = 0, delimiter = ',')\n",
    "\n",
    "#Clean up data\n",
    "weight_data.columns = [n.strip(\"'\") for n in weight_data.columns]\n",
    "weight_data['sex'] = [n.strip(\"'\") for n in weight_data['sex']]\n",
    "weight_data = weight_data.set_index('id')\n",
    "weight_data['sex'] = weight_data['sex'].astype('category')\n",
    "\n",
    "weight_data.tail()"
   ]
  },
  {
   "cell_type": "code",
   "execution_count": 8,
   "metadata": {
    "collapsed": false,
    "scrolled": false
   },
   "outputs": [
    {
     "data": {
      "image/png": "[encoded data removed]",
      "text/plain": [
       "<matplotlib.figure.Figure at 0x1175c79d0>"
      ]
     },
     "metadata": {},
     "output_type": "display_data"
    },
    {
     "data": {
      "image/png": "[encoded data removed]",
      "text/plain": [
       "<matplotlib.figure.Figure at 0x11a6dbf90>"
      ]
     },
     "metadata": {},
     "output_type": "display_data"
    }
   ],
   "source": [
    "#Graph actual and ideal weight\n",
    "plt.hist(weight_data['actual'], alpha = 0.5)\n",
    "plt.hist(weight_data['ideal'], alpha = 0.5)\n",
    "plt.legend(['actual','ideal'])\n",
    "plt.title('Actual & Ideal Weight')\n",
    "plt.xlabel('Weight (lbs)')\n",
    "plt.savefig('Acutal & Ideal Weight', dpi = 100)\n",
    "\n",
    "#Graph actual and ideal weight\n",
    "plt.figure()\n",
    "plt.hist(weight_data['diff'])\n",
    "plt.title('Difference in Actual & Ideal Weight')\n",
    "plt.xlabel('Weight (lbs)')\n",
    "plt.savefig('Difference in Actual & Ideal Weight', dpi = 100)"
   ]
  },
  {
   "cell_type": "code",
   "execution_count": 6,
   "metadata": {
    "collapsed": false
   },
   "outputs": [
    {
     "name": "stdout",
     "output_type": "stream",
     "text": [
      "There are 119 females and 63 males in the dataset\n"
     ]
    }
   ],
   "source": [
    "print('There are %d females and %d males in the dataset' \n",
    "      % (weight_data['sex'].value_counts()[0],weight_data['sex'].value_counts()[1]))"
   ]
  },
  {
   "cell_type": "code",
   "execution_count": 7,
   "metadata": {
    "collapsed": false
   },
   "outputs": [
    {
     "name": "stdout",
     "output_type": "stream",
     "text": [
      "14 points were mislabeled out of 182 points\n",
      "\n",
      "An individual with an actual weight of 145, an ideal weight of 160 and weight different of -15 is most likely Male\n",
      "\n",
      "An individual with an actual weight of 160, an ideal weight of 145 and weight different of 15 is most likely Female\n"
     ]
    }
   ],
   "source": [
    "#Build NB model\n",
    "model = GaussianNB()\n",
    "\n",
    "model.fit(weight_data[['actual', 'ideal', 'diff']], weight_data['sex'])\n",
    "\n",
    "weight_data['predict'] = model.predict(weight_data[['actual', 'ideal', 'diff']])\n",
    "\n",
    "print('%d points were mislabeled out of %d points'\n",
    "         % ((weight_data['sex'] != weight_data['predict']).sum(), len(weight_data)))\n",
    "\n",
    "new_ppl = [[145, 160, -15], [160, 145, 15]]\n",
    "for person in new_ppl:\n",
    "    print('\\nAn individual with an actual weight of %d, '\\\n",
    "            'an ideal weight of %d and '\\\n",
    "            'weight different of %d '\\\n",
    "            'is most likely %s' % \n",
    "            (person[0], \n",
    "             person[1], \n",
    "             person[2],\n",
    "             model.predict([person])[0]))"
   ]
  },
  {
   "cell_type": "code",
   "execution_count": null,
   "metadata": {
    "collapsed": true
   },
   "outputs": [],
   "source": []
  }
 ],
 "metadata": {
  "kernelspec": {
   "display_name": "Python 2",
   "language": "python",
   "name": "python2"
  },
  "language_info": {
   "codemirror_mode": {
    "name": "ipython",
    "version": 2
   },
   "file_extension": ".py",
   "mimetype": "text/x-python",
   "name": "python",
   "nbconvert_exporter": "python",
   "pygments_lexer": "ipython2",
   "version": "2.7.12"
  }
 },
 "nbformat": 4,
 "nbformat_minor": 0
}
