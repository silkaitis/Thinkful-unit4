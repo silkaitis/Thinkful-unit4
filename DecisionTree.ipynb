{
 "cells": [
  {
   "cell_type": "code",
   "execution_count": null,
   "metadata": {
    "collapsed": false
   },
   "outputs": [],
   "source": [
    "#Import modules\n"
   ]
  },
  {
   "cell_type": "code",
   "execution_count": 25,
   "metadata": {
    "collapsed": false
   },
   "outputs": [
    {
     "name": "stdout",
     "output_type": "stream",
     "text": [
      "1 tAcc_Mean_X\n",
      "2 tAcc_Mean_Y\n",
      "3 tAcc_Mean_Z\n",
      "4 tAcc_STD_X\n",
      "5 tAcc_STD_Y\n",
      "6 tAcc_STD_Z\n",
      "41 tGravityAcc_Mean_X\n",
      "42 tGravityAcc_Mean_Y\n",
      "43 tGravityAcc_Mean_Z\n",
      "44 tGravityAcc_STD_X\n",
      "45 tGravityAcc_STD_Y\n",
      "46 tGravityAcc_STD_Z\n",
      "81 tAccJerk_Mean_X\n",
      "82 tAccJerk_Mean_Y\n",
      "83 tAccJerk_Mean_Z\n",
      "84 tAccJerk_STD_X\n",
      "85 tAccJerk_STD_Y\n",
      "86 tAccJerk_STD_Z\n",
      "121 tGyro_Mean_X\n",
      "122 tGyro_Mean_Y\n",
      "123 tGyro_Mean_Z\n",
      "124 tGyro_STD_X\n",
      "125 tGyro_STD_Y\n",
      "126 tGyro_STD_Z\n",
      "161 tGyroJerk_Mean_X\n",
      "162 tGyroJerk_Mean_Y\n",
      "163 tGyroJerk_Mean_Z\n",
      "164 tGyroJerk_STD_X\n",
      "165 tGyroJerk_STD_Y\n",
      "166 tGyroJerk_STD_Z\n",
      "266 fAcc_Mean_X\n",
      "267 fAcc_Mean_Y\n",
      "268 fAcc_Mean_Z\n",
      "269 fAcc_STD_X\n",
      "270 fAcc_STD_Y\n",
      "271 fAcc_STD_Z\n",
      "297 fAcc_skewness_X\n",
      "298 fAcc_kurtosis_X\n",
      "299 fAcc_skewness_Y\n",
      "300 fAcc_kurtosis_Y\n",
      "301 fAcc_skewness_Z\n",
      "302 fAcc_kurtosis_Z\n",
      "345 fAccJerk_Mean_X\n",
      "346 fAccJerk_Mean_Y\n",
      "347 fAccJerk_Mean_Z\n",
      "348 fAccJerk_STD_X\n",
      "349 fAccJerk_STD_Y\n",
      "350 fAccJerk_STD_Z\n",
      "376 fAccJerk_skewness_X\n",
      "377 fAccJerk_kurtosis_X\n",
      "378 fAccJerk_skewness_Y\n",
      "379 fAccJerk_kurtosis_Y\n",
      "380 fAccJerk_skewness_Z\n",
      "381 fAccJerk_kurtosis_Z\n",
      "424 fGyro_Mean_X\n",
      "425 fGyro_Mean_Y\n",
      "426 fGyro_Mean_Z\n",
      "427 fGyro_STD_X\n",
      "428 fGyro_STD_Y\n",
      "429 fGyro_STD_Z\n",
      "455 fGyro_skewness_X\n",
      "456 fGyro_kurtosis_X\n",
      "457 fGyro_skewness_Y\n",
      "458 fGyro_kurtosis_Y\n",
      "459 fGyro_skewness_Z\n",
      "460 fGyro_kurtosis_Z\n"
     ]
    }
   ],
   "source": [
    "#Open data label file\n",
    "data_file = open('features.txt','r')\n",
    "\n",
    "#Create dict for column position and name\n",
    "data_keys = {}\n",
    "\n",
    "for line in data_file.readlines():\n",
    "    #Split the line into the column number & label\n",
    "    line = line.split(' ')\n",
    "    \n",
    "    #Clean up the column name\n",
    "    col_name = line[1].rstrip()\n",
    "    col_name = col_name.replace('()','')\n",
    "    col_name = col_name.replace('-','_')\n",
    "    col_name = col_name.replace('Body','')\n",
    "    col_name = col_name.replace('mean','Mean')\n",
    "    col_name = col_name.replace('std','STD')\n",
    "    col_name = col_name.replace('Mag','')\n",
    "    \n",
    "    #Extract columns of interest (Mean, STD, skewness and kurtosis for X,Y,Z axes)\n",
    "    if 'Mean_' in col_name:\n",
    "        data_keys[int(line[0])] = col_name\n",
    "    elif 'STD_' in col_name:\n",
    "        data_keys[int(line[0])] = col_name\n",
    "    elif 'skewness_' in col_name:\n",
    "        data_keys[int(line[0])] = col_name\n",
    "    elif 'kurtosis_' in col_name:\n",
    "        data_keys[int(line[0])] = col_name\n",
    "        \n",
    "for key in sorted(data_keys.keys()):\n",
    "        print('%s %s' % (key,data_keys[key]))"
   ]
  }
 ],
 "metadata": {
  "kernelspec": {
   "display_name": "Python [Root]",
   "language": "python",
   "name": "Python [Root]"
  },
  "language_info": {
   "codemirror_mode": {
    "name": "ipython",
    "version": 2
   },
   "file_extension": ".py",
   "mimetype": "text/x-python",
   "name": "python",
   "nbconvert_exporter": "python",
   "pygments_lexer": "ipython2",
   "version": "2.7.12"
  }
 },
 "nbformat": 4,
 "nbformat_minor": 0
}
